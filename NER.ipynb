{
 "cells": [
  {
   "cell_type": "markdown",
   "metadata": {},
   "source": [
    "## Load Packages"
   ]
  },
  {
   "cell_type": "code",
   "execution_count": null,
   "metadata": {},
   "outputs": [],
   "source": [
    "from __future__ import unicode_literals, print_function\n",
    "import plac\n",
    "import random\n",
    "from pathlib import Path\n",
    "import spacy\n",
    "from tqdm import tqdm "
   ]
  },
  {
   "cell_type": "code",
   "execution_count": null,
   "metadata": {},
   "outputs": [],
   "source": []
  },
  {
   "cell_type": "markdown",
   "metadata": {},
   "source": [
    "## Working of NER"
   ]
  },
  {
   "cell_type": "code",
   "execution_count": null,
   "metadata": {},
   "outputs": [],
   "source": [
    "# nlp1 = spacy.load('en_core_web_sm')\n",
    "# docx1 = nlp1(u\"Who is Nishanth?\")"
   ]
  },
  {
   "cell_type": "code",
   "execution_count": null,
   "metadata": {},
   "outputs": [],
   "source": [
    "# for token in docx1.ents:\n",
    "#     print(token.text,token.start_char, token.end_char,token.label_)"
   ]
  },
  {
   "cell_type": "code",
   "execution_count": null,
   "metadata": {},
   "outputs": [],
   "source": [
    "# docx2 = nlp1(u\"Who is Kamal Khumar?\")"
   ]
  },
  {
   "cell_type": "code",
   "execution_count": null,
   "metadata": {},
   "outputs": [],
   "source": [
    "# for token in docx2.ents:\n",
    "#     print(token.text,token.start_char, token.end_char,token.label_)"
   ]
  },
  {
   "cell_type": "markdown",
   "metadata": {},
   "source": [
    "## Train and Test Data"
   ]
  },
  {
   "cell_type": "code",
   "execution_count": null,
   "metadata": {},
   "outputs": [],
   "source": [
    "TRAIN_DATA = [\n",
    "    ('I am taking cosc 301', {\n",
    "        'entities': [(12, 20, 'COR')]\n",
    "    }),\n",
    "    ('I am taking phil 331', {\n",
    "        'entities': [(12, 20, 'COR')]\n",
    "    }),\n",
    "    ('I am taking data 301', {\n",
    "        'entities': [(12, 20, 'COR')]\n",
    "    }),\n",
    "    ('I love engl 351 so much', {\n",
    "        'entities': [(7, 15, \"COR\")]\n",
    "    }),\n",
    "    ('Why is span 419 so hard', {\n",
    "        'entities': [(7, 15, \"COR\")]\n",
    "    }),\n",
    "    ('I just enrolled in math 101 and I am excited to start learning about calculus.', {\n",
    "    'entities': [(20, 28, \"COR\")]\n",
    "    }),\n",
    "    ('Last semester, I took psyc 200 and it was one of my favorite classes.', {\n",
    "        'entities': [(18, 26, \"COR\")]\n",
    "    }),\n",
    "    ('psyc 200 is one of my favorite classes.', {\n",
    "        'entities': [(0, 7, \"COR\")]\n",
    "    }),\n",
    "    ('I am struggling in econ 301, but I am determined to improve my understanding of macroeconomics.', {\n",
    "        'entities': [(19, 27, \"COR\")]\n",
    "    }),\n",
    "    ('I am considering taking chem 110 next semester.', {\n",
    "        'entities': [(25, 33, \"COR\")]\n",
    "    }),\n",
    "    ('I have a final exam in stat 400 next week and I have been studying non-stop to prepare.', {\n",
    "        'entities': [(22, 30, \"COR\")]\n",
    "    }),\n",
    "    ('I am struggling in mus 210, but I am determined to improve my musical abilities.', {\n",
    "        'entities': [(19, 26, \"COR\")]\n",
    "    }),\n",
    "    \n",
    "    # Computer Science\n",
    "    ('I am majoring in computer science', {'entities': [(18, 34, 'MAJOR')]}),\n",
    "    ('My major is computer science', {'entities': [(12, 28, 'MAJOR')]}),\n",
    "#     ('I study computer science', {'entities': [(7, 23, 'MAJOR')]}),\n",
    "#     ('Computer science is my field of study', {'entities': [(0, 17, 'MAJOR')]}),\n",
    "    \n",
    "    # Biology\n",
    "    ('I am majoring in biology', {'entities': [(18, 25, 'MAJOR')]}),\n",
    "    ('My major is biology', {'entities': [(12, 19, 'MAJOR')]}),\n",
    "#     ('I study biology', {'entities': [(7, 14, 'MAJOR')]}),\n",
    "#     ('Biology is my field of study', {'entities': [(0, 7, 'MAJOR')]}),\n",
    "    \n",
    "    # Data Science\n",
    "#     ('I am majoring in data science', {'entities': [(18, 30, 'MAJOR')]}),\n",
    "#     ('My major is data science', {'entities': [(12, 24, 'MAJOR')]}),\n",
    "#     ('I study data science', {'entities': [(7, 19, 'MAJOR')]}),\n",
    "#     ('Data science is my field of study', {'entities': [(0, 12, 'MAJOR')]}),\n",
    "    \n",
    "    # Mechanical Engineering\n",
    "    ('I am majoring in mechanical engineering', {'entities': [(18, 40, 'MAJOR')]}),\n",
    "    ('My major is mechanical engineering', {'entities': [(12, 34, 'MAJOR')]}),\n",
    "#     ('I study mechanical engineering', {'entities': [(7, 32, 'MAJOR')]}),\n",
    "#     ('Mechanical engineering is my field of study', {'entities': [(0, 23, 'MAJOR')]}),\n",
    "    \n",
    "    # Physics\n",
    "    ('I am majoring in physics', {'entities': [(18, 25, 'MAJOR')]}),\n",
    "    ('My major is physics', {'entities': [(12, 19, 'MAJOR')]}),\n",
    "#     ('I study physics', {'entities': [(7, 14, 'MAJOR')]}),\n",
    "#     ('Physics is my field of study', {'entities': [(0, 7, 'MAJOR')]}),\n",
    "    \n",
    "    # Psychology\n",
    "    ('I am majoring in psychology', {'entities': [(18, 28, 'MAJOR')]}),\n",
    "    ('My major is psychology', {'entities': [(12, 22, 'MAJOR')]}),\n",
    "#     ('I study psychology', {'entities': [(7, 17, 'MAJOR')]}),\n",
    "#     ('Psychology is my field of study', {'entities': [(0, 10, 'MAJOR')]}),\n",
    "    \n",
    "    # Business\n",
    "#     ('I am majoring in business', {'entities': [(18, 25, 'MAJOR')]}),\n",
    "#     ('My major is business', {'entities': [(12, 19, 'MAJOR')]}),\n",
    "#     ('I study business', {'entities': [(7, 14, 'MAJOR')]}),\n",
    "#     ('Business is my field of study', {'entities': [(0, 7, 'MAJOR')]}),\n",
    "    \n",
    "    # Chemistry\n",
    "    ('I am majoring in chemistry', {'entities': [(18, 27, 'MAJOR')]}),\n",
    "    ('My major is chemistry', {'entities': [(12, 21, 'MAJOR')]}),\n",
    "    ('I study chemistry', {'entities': [(7, 16, 'MAJOR')]}),\n",
    "    ('Chemistry is my field of study', {'entities': [(0, 9, 'MAJOR')]}),\n",
    "\n",
    "    # Mathematics\n",
    "    ('I am majoring in mathematics', {'entities': [(18, 29, 'MAJOR')]}),\n",
    "    ('My major is mathematics', {'entities': [(12, 23, 'MAJOR')]}),\n",
    "#     ('I study mathematics', {'entities': [(7, 18, 'MAJOR')]}),\n",
    "#     ('Mathematics is my field of study', {'entities': [(0, 12, 'MAJOR')]}),\n",
    "\n",
    "    # English\n",
    "#     ('I am majoring in English', {'entities': [(18, 24, 'MAJOR')]}),\n",
    "#     ('My major is English', {'entities': [(12, 18, 'MAJOR')]}),\n",
    "#     ('I study English', {'entities': [(7, 13, 'MAJOR')]}),\n",
    "#     ('English is my field of study', {'entities': [(0, 7, 'MAJOR')]}),\n",
    "\n",
    "    # Environmental Science\n",
    "#     ('I am majoring in environmental science', {'entities': [(18, 39, 'MAJOR')]}),\n",
    "#     ('My major is environmental science', {'entities': [(12, 33, 'MAJOR')]}),\n",
    "#     ('I study environmental science', {'entities': [(7, 28, 'MAJOR')]}),\n",
    "#     ('Environmental science is my field of study', {'entities': [(0, 22, 'MAJOR')]}),\n",
    "\n",
    "    # History\n",
    "#     ('I am majoring in history', {'entities': [(18, 25, 'MAJOR')]}),\n",
    "#     ('My major is history', {'entities': [(12, 19, 'MAJOR')]}),\n",
    "#     ('I study history', {'entities': [(7, 14, 'MAJOR')]}),\n",
    "#     ('History is my field of study', {'entities': [(0, 7, 'MAJOR')]})\n",
    "]\n",
    "\n",
    "TEST_DATA = [\n",
    "     ('How is math 101?', {\n",
    "        'entities': [(7, 15, 'PER')]\n",
    "    }),\n",
    "     ('Who is cosc 554?', {\n",
    "        'entities': [(7, 19, 'PER')]\n",
    "    }),\n",
    "    ('I like London and Berlin.', {\n",
    "        'entities': [(7, 13, 'LOC'), (18, 24, 'LOC')]\n",
    "    }),\n",
    "    ('what is phil 331 about', {\n",
    "        'entities': [(12, 20, 'COR')]\n",
    "    })\n",
    "]\n",
    "\n",
    "TEST_Sentences = [\"I am taking COSC 301\", \"I'm taking PSYC 210 and learning about the different approaches to psychology.\",    \"I just enrolled in math 101 and I'm excited to start learning about calculus.\",    \"I'm considering taking MATH 202 next semester, but I'm not sure if I'm ready for the challenge.\",    \"Last semester, I took PSYC 200 and it was one of my favorite classes.\",    \"I'm struggling in ECON 301, but I'm determined to improve my understanding of macroeconomics.\",    \"This summer, I'm enrolled in SPAN 301 and looking forward to improving my language skills.\",    \"I have a final exam in STAT 400 next week and I have been studying non-stop to prepare.\",    \"I loved taking HIST 205 and learning about the Civil Rights Movement.\",    \"I am considering taking PHIL 331 next semester to fulfill my ethics requirement.\", \"I'm taking ART 101 this semester to fulfill my fine arts requirement.\",    \"I just enrolled in CS 201 and I'm excited to start learning about algorithms.\",    \"I'm struggling in GYM 210, but I'm determined to improve my physical fitness.\",    \"This summer, I'm enrolled in BIO 301 and looking forward to learning about genetics.\",    \"I'm considering taking PE 201 next semester to fulfill my physical education requirement.\"]\n",
    "sentences = [    \"I woke up early this morning and went for a run.\",    \"Sheila is a great singer and songwriter.\",    \"The pizza at that new restaurant is amazing.\",    \"I can't wait for summer vacation to start.\",    \"The movie we saw last night was really funny.\",    \"My dog is always excited to see me when I come home.\",    \"I'm thinking about starting a new hobby, like painting or woodworking.\",    \"I'm really proud of my little brother for getting into college.\",    \"I love listening to music while I'm driving.\",    \"I have a lot of work to do, but I'm trying to stay focused.\",    \"I can't believe how fast time is flying by.\",    \"I'm going to the beach this weekend with some friends.\",    \"I'm trying to eat healthier and exercise more.\",    \"I'm thinking about taking a cooking class to improve my skills.\",    \"I'm really enjoying this book that I'm reading right now.\",    \"I'm trying to learn a new language, but it's difficult.\",    \"I'm excited to see what the future holds.\",    \"I'm grateful for all the support I've received from my family and friends.\",    \"I'm always looking for ways to improve myself and grow as a person.\"]\n"
   ]
  },
  {
   "cell_type": "markdown",
   "metadata": {},
   "source": [
    "## Define our variables"
   ]
  },
  {
   "cell_type": "code",
   "execution_count": null,
   "metadata": {},
   "outputs": [],
   "source": [
    "model = None\n",
    "# output_dir=Path(\"C:\\\\Users\\\\nithi\\\\Documents\\\\ner\")\n",
    "output_dir=Path(\"NerModels\")\n",
    "n_iter=150"
   ]
  },
  {
   "cell_type": "markdown",
   "metadata": {},
   "source": [
    "## Load the model"
   ]
  },
  {
   "cell_type": "code",
   "execution_count": null,
   "metadata": {},
   "outputs": [],
   "source": [
    "if model is not None:\n",
    "    nlp = spacy.load(model)  \n",
    "    print(\"Loaded model '%s'\" % model)\n",
    "else:\n",
    "    nlp = spacy.blank('en')  \n",
    "    print(\"Created blank 'en' model\")"
   ]
  },
  {
   "cell_type": "markdown",
   "metadata": {},
   "source": [
    "## Set up the pipeline"
   ]
  },
  {
   "cell_type": "code",
   "execution_count": null,
   "metadata": {},
   "outputs": [],
   "source": [
    "if 'ner' not in nlp.pipe_names:\n",
    "    ner = nlp.create_pipe('ner')\n",
    "    nlp.add_pipe('ner')\n",
    "else:\n",
    "    ner = nlp.get_pipe('ner')"
   ]
  },
  {
   "cell_type": "markdown",
   "metadata": {},
   "source": [
    "## Train the Recognizer"
   ]
  },
  {
   "cell_type": "code",
   "execution_count": null,
   "metadata": {},
   "outputs": [],
   "source": [
    "from spacy.training import Example\n",
    "\n",
    "for _, annotations in TRAIN_DATA:\n",
    "    for ent in annotations.get('entities'):\n",
    "        ner.add_label(ent[2])\n",
    "\n",
    "other_pipes = [pipe for pipe in nlp.pipe_names if pipe != 'ner']\n",
    "with nlp.disable_pipes(*other_pipes):  # only train NER\n",
    "    optimizer = nlp.begin_training()\n",
    "    for itn in range(n_iter):\n",
    "        random.shuffle(TRAIN_DATA)\n",
    "        losses = {}\n",
    "        for text, annotations in tqdm(TRAIN_DATA):\n",
    "            example = Example.from_dict(nlp.make_doc(text), annotations)\n",
    "            nlp.update(\n",
    "                [example],  \n",
    "                drop=0.5,  \n",
    "                sgd=optimizer,\n",
    "                losses=losses)\n",
    "        print(losses)"
   ]
  },
  {
   "cell_type": "markdown",
   "metadata": {},
   "source": [
    "## Test the trained model"
   ]
  },
  {
   "cell_type": "code",
   "execution_count": null,
   "metadata": {},
   "outputs": [],
   "source": [
    "for text, _ in TRAIN_DATA:\n",
    "    doc = nlp(text)\n",
    "    print('Entities', [(ent.text, ent.label_) for ent in doc.ents])\n",
    "#     print('Tokens', [(t.text, t.ent_type_, t.ent_iob) for t in doc])"
   ]
  },
  {
   "cell_type": "markdown",
   "metadata": {},
   "source": [
    "## Save the model"
   ]
  },
  {
   "cell_type": "code",
   "execution_count": null,
   "metadata": {},
   "outputs": [],
   "source": [
    "if output_dir is not None:\n",
    "    output_dir = Path(output_dir)\n",
    "    if not output_dir.exists():\n",
    "        output_dir.mkdir()\n",
    "    nlp.to_disk(output_dir)\n",
    "    print(\"Saved model to\", output_dir)        "
   ]
  },
  {
   "cell_type": "markdown",
   "metadata": {},
   "source": [
    "## Test the saved model"
   ]
  },
  {
   "cell_type": "code",
   "execution_count": null,
   "metadata": {},
   "outputs": [],
   "source": [
    "# print(\"Loading from\", output_dir)\n",
    "# nlp2 = spacy.load(output_dir)\n",
    "# for text, _ in TEST_DATA:\n",
    "#     doc = nlp2(text)\n",
    "#     print('Entities', [(ent.text, ent.label_) for ent in doc.ents])\n",
    "#     print('Tokens', [(t.text, t.ent_type_, t.ent_iob) for t in doc])"
   ]
  },
  {
   "cell_type": "code",
   "execution_count": null,
   "metadata": {},
   "outputs": [],
   "source": [
    "# should be empty - no course name mentioned in set.\n",
    "for sent in TEST_Sentences:\n",
    "    doc = nlp2(sent)\n",
    "    print('Entities', [(ent.text, ent.label_) for ent in doc.ents])\n",
    "#     print('Tokens', [(t.text, t.ent_type_, t.ent_iob) for t in doc])"
   ]
  },
  {
   "cell_type": "code",
   "execution_count": null,
   "metadata": {},
   "outputs": [],
   "source": [
    "# should be empty - no course name mentioned in set.\n",
    "for sent in sentences:\n",
    "    doc = nlp2(sent)\n",
    "    print('Entities', [(ent.text, ent.label_) for ent in doc.ents])\n",
    "#     print('Tokens', [(t.text, t.ent_type_, t.ent_iob) for t in doc])"
   ]
  },
  {
   "cell_type": "code",
   "execution_count": null,
   "metadata": {},
   "outputs": [],
   "source": []
  },
  {
   "cell_type": "markdown",
   "metadata": {},
   "source": [
    "## Clean version"
   ]
  },
  {
   "cell_type": "code",
   "execution_count": null,
   "metadata": {},
   "outputs": [],
   "source": [
    "# from __future__ import unicode_literals, print_function\n",
    "# import plac\n",
    "# import random\n",
    "from pathlib import Path\n",
    "import spacy\n",
    "# from tqdm import tqdm "
   ]
  },
  {
   "cell_type": "code",
   "execution_count": null,
   "metadata": {},
   "outputs": [],
   "source": [
    "TRAIN_DATA = [\n",
    "    ('I am taking cosc 301', {\n",
    "        'entities': [(12, 20, 'COR')]\n",
    "    }),\n",
    "    ('I am taking phil 331', {\n",
    "        'entities': [(12, 20, 'COR')]\n",
    "    }),\n",
    "    ('I am taking data 301', {\n",
    "        'entities': [(12, 20, 'COR')]\n",
    "    }),\n",
    "    ('I love engl 351 so much', {\n",
    "        'entities': [(7, 15, \"COR\")]\n",
    "    }),\n",
    "    ('Why is span 419 so hard', {\n",
    "        'entities': [(7, 15, \"COR\")]\n",
    "    }),\n",
    "    ('I just enrolled in math 101 and I am excited to start learning about calculus.', {\n",
    "    'entities': [(20, 28, \"COR\")]\n",
    "    }),\n",
    "    ('Last semester, I took psyc 200 and it was one of my favorite classes.', {\n",
    "        'entities': [(18, 26, \"COR\")]\n",
    "    }),\n",
    "    ('psyc 200 is one of my favorite classes.', {\n",
    "        'entities': [(0, 7, \"COR\")]\n",
    "    }),\n",
    "    ('I am struggling in econ 301, but I am determined to improve my understanding of macroeconomics.', {\n",
    "        'entities': [(19, 27, \"COR\")]\n",
    "    }),\n",
    "    ('I am considering taking chem 110 next semester.', {\n",
    "        'entities': [(25, 33, \"COR\")]\n",
    "    }),\n",
    "    ('I have a final exam in stat 400 next week and I have been studying non-stop to prepare.', {\n",
    "        'entities': [(22, 30, \"COR\")]\n",
    "    }),\n",
    "    ('I am struggling in mus 210, but I am determined to improve my musical abilities.', {\n",
    "        'entities': [(19, 26, \"COR\")]\n",
    "    }),\n",
    "    \n",
    "    # Computer Science\n",
    "    ('I am majoring in computer science', {'entities': [(18, 34, 'MAJOR')]}),\n",
    "    ('My major is computer science', {'entities': [(12, 28, 'MAJOR')]}),\n",
    "#     ('I study computer science', {'entities': [(7, 23, 'MAJOR')]}),\n",
    "#     ('Computer science is my field of study', {'entities': [(0, 17, 'MAJOR')]}),\n",
    "    \n",
    "    # Biology\n",
    "    ('I am majoring in biology', {'entities': [(18, 25, 'MAJOR')]}),\n",
    "    ('My major is biology', {'entities': [(12, 19, 'MAJOR')]}),\n",
    "#     ('I study biology', {'entities': [(7, 14, 'MAJOR')]}),\n",
    "#     ('Biology is my field of study', {'entities': [(0, 7, 'MAJOR')]}),\n",
    "    \n",
    "    # Data Science\n",
    "#     ('I am majoring in data science', {'entities': [(18, 30, 'MAJOR')]}),\n",
    "#     ('My major is data science', {'entities': [(12, 24, 'MAJOR')]}),\n",
    "#     ('I study data science', {'entities': [(7, 19, 'MAJOR')]}),\n",
    "#     ('Data science is my field of study', {'entities': [(0, 12, 'MAJOR')]}),\n",
    "    \n",
    "    # Mechanical Engineering\n",
    "    ('I am majoring in mechanical engineering', {'entities': [(18, 40, 'MAJOR')]}),\n",
    "    ('My major is mechanical engineering', {'entities': [(12, 34, 'MAJOR')]}),\n",
    "#     ('I study mechanical engineering', {'entities': [(7, 32, 'MAJOR')]}),\n",
    "#     ('Mechanical engineering is my field of study', {'entities': [(0, 23, 'MAJOR')]}),\n",
    "    \n",
    "    # Physics\n",
    "    ('I am majoring in physics', {'entities': [(18, 25, 'MAJOR')]}),\n",
    "    ('My major is physics', {'entities': [(12, 19, 'MAJOR')]}),\n",
    "#     ('I study physics', {'entities': [(7, 14, 'MAJOR')]}),\n",
    "#     ('Physics is my field of study', {'entities': [(0, 7, 'MAJOR')]}),\n",
    "    \n",
    "    # Psychology\n",
    "    ('I am majoring in psychology', {'entities': [(18, 28, 'MAJOR')]}),\n",
    "    ('My major is psychology', {'entities': [(12, 22, 'MAJOR')]}),\n",
    "#     ('I study psychology', {'entities': [(7, 17, 'MAJOR')]}),\n",
    "#     ('Psychology is my field of study', {'entities': [(0, 10, 'MAJOR')]}),\n",
    "    \n",
    "    # Business\n",
    "#     ('I am majoring in business', {'entities': [(18, 25, 'MAJOR')]}),\n",
    "#     ('My major is business', {'entities': [(12, 19, 'MAJOR')]}),\n",
    "#     ('I study business', {'entities': [(7, 14, 'MAJOR')]}),\n",
    "#     ('Business is my field of study', {'entities': [(0, 7, 'MAJOR')]}),\n",
    "    \n",
    "    # Chemistry\n",
    "    ('I am majoring in chemistry', {'entities': [(18, 27, 'MAJOR')]}),\n",
    "    ('My major is chemistry', {'entities': [(12, 21, 'MAJOR')]}),\n",
    "    ('I study chemistry', {'entities': [(7, 16, 'MAJOR')]}),\n",
    "    ('Chemistry is my field of study', {'entities': [(0, 9, 'MAJOR')]}),\n",
    "\n",
    "    # Mathematics\n",
    "    ('I am majoring in mathematics', {'entities': [(18, 29, 'MAJOR')]}),\n",
    "    ('My major is mathematics', {'entities': [(12, 23, 'MAJOR')]}),\n",
    "#     ('I study mathematics', {'entities': [(7, 18, 'MAJOR')]}),\n",
    "#     ('Mathematics is my field of study', {'entities': [(0, 12, 'MAJOR')]}),\n",
    "\n",
    "    # English\n",
    "#     ('I am majoring in English', {'entities': [(18, 24, 'MAJOR')]}),\n",
    "#     ('My major is English', {'entities': [(12, 18, 'MAJOR')]}),\n",
    "#     ('I study English', {'entities': [(7, 13, 'MAJOR')]}),\n",
    "#     ('English is my field of study', {'entities': [(0, 7, 'MAJOR')]}),\n",
    "\n",
    "    # Environmental Science\n",
    "#     ('I am majoring in environmental science', {'entities': [(18, 39, 'MAJOR')]}),\n",
    "#     ('My major is environmental science', {'entities': [(12, 33, 'MAJOR')]}),\n",
    "#     ('I study environmental science', {'entities': [(7, 28, 'MAJOR')]}),\n",
    "#     ('Environmental science is my field of study', {'entities': [(0, 22, 'MAJOR')]}),\n",
    "\n",
    "    # History\n",
    "#     ('I am majoring in history', {'entities': [(18, 25, 'MAJOR')]}),\n",
    "#     ('My major is history', {'entities': [(12, 19, 'MAJOR')]}),\n",
    "#     ('I study history', {'entities': [(7, 14, 'MAJOR')]}),\n",
    "#     ('History is my field of study', {'entities': [(0, 7, 'MAJOR')]})\n",
    "]\n",
    "\n",
    "TEST_DATA = [\n",
    "     ('How is math 101?', {\n",
    "        'entities': [(7, 15, 'PER')]\n",
    "    }),\n",
    "     ('Who is cosc 554?', {\n",
    "        'entities': [(7, 19, 'PER')]\n",
    "    }),\n",
    "    ('I like London and Berlin.', {\n",
    "        'entities': [(7, 13, 'LOC'), (18, 24, 'LOC')]\n",
    "    }),\n",
    "    ('what is phil 331 about', {\n",
    "        'entities': [(12, 20, 'COR')]\n",
    "    })\n",
    "]\n",
    "\n",
    "TEST_Sentences = [\"I am taking COSC 301\", \"I'm taking PSYC 210 and learning about the different approaches to psychology.\",    \"I just enrolled in math 101 and I'm excited to start learning about calculus.\",    \"I'm considering taking MATH 202 next semester, but I'm not sure if I'm ready for the challenge.\",    \"Last semester, I took PSYC 200 and it was one of my favorite classes.\",    \"I'm struggling in ECON 301, but I'm determined to improve my understanding of macroeconomics.\",    \"This summer, I'm enrolled in SPAN 301 and looking forward to improving my language skills.\",    \"I have a final exam in STAT 400 next week and I have been studying non-stop to prepare.\",    \"I loved taking HIST 205 and learning about the Civil Rights Movement.\",    \"I am considering taking PHIL 331 next semester to fulfill my ethics requirement.\", \"I'm taking ART 101 this semester to fulfill my fine arts requirement.\",    \"I just enrolled in CS 201 and I'm excited to start learning about algorithms.\",    \"I'm struggling in GYM 210, but I'm determined to improve my physical fitness.\",    \"This summer, I'm enrolled in BIO 301 and looking forward to learning about genetics.\",    \"I'm considering taking PE 201 next semester to fulfill my physical education requirement.\"]\n",
    "sentences = [    \"I woke up early this morning and went for a run.\",    \"Sheila is a great singer and songwriter.\",    \"The pizza at that new restaurant is amazing.\",    \"I can't wait for summer vacation to start.\",    \"The movie we saw last night was really funny.\",    \"My dog is always excited to see me when I come home.\",    \"I'm thinking about starting a new hobby, like painting or woodworking.\",    \"I'm really proud of my little brother for getting into college.\",    \"I love listening to music while I'm driving.\",    \"I have a lot of work to do, but I'm trying to stay focused.\",    \"I can't believe how fast time is flying by.\",    \"I'm going to the beach this weekend with some friends.\",    \"I'm trying to eat healthier and exercise more.\",    \"I'm thinking about taking a cooking class to improve my skills.\",    \"I'm really enjoying this book that I'm reading right now.\",    \"I'm trying to learn a new language, but it's difficult.\",    \"I'm excited to see what the future holds.\",    \"I'm grateful for all the support I've received from my family and friends.\",    \"I'm always looking for ways to improve myself and grow as a person.\"]\n"
   ]
  },
  {
   "cell_type": "code",
   "execution_count": null,
   "metadata": {},
   "outputs": [],
   "source": [
    "model = None\n",
    "output_dir=Path(\"NerModels\")"
   ]
  },
  {
   "cell_type": "code",
   "execution_count": null,
   "metadata": {},
   "outputs": [],
   "source": [
    "print(\"Loading from\", output_dir)\n",
    "nlp2 = spacy.load(output_dir)\n",
    "for sent in TEST_Sentences:\n",
    "    doc = nlp2(sent)\n",
    "    print('Entities', [(ent.text, ent.label_) for ent in doc.ents])\n",
    "#     print('Tokens', [(t.text, t.ent_type_, t.ent_iob) for t in doc])"
   ]
  },
  {
   "cell_type": "code",
   "execution_count": null,
   "metadata": {},
   "outputs": [],
   "source": [
    "# should be empty - no course name mentioned in set.\n",
    "for sent in sentences:\n",
    "    doc = nlp2(sent)\n",
    "    print('Entities', [(ent.text, ent.label_) for ent in doc.ents])\n",
    "#     print('Tokens', [(t.text, t.ent_type_, t.ent_iob) for t in doc])"
   ]
  },
  {
   "cell_type": "code",
   "execution_count": null,
   "metadata": {},
   "outputs": [],
   "source": [
    "doc = nlp2(\"do i have to take cosc 121 if i am majoring in computer science\")"
   ]
  },
  {
   "cell_type": "code",
   "execution_count": null,
   "metadata": {},
   "outputs": [],
   "source": [
    "print('Entities', [(ent.text, ent.label_) for ent in doc.ents])"
   ]
  },
  {
   "cell_type": "code",
   "execution_count": null,
   "metadata": {},
   "outputs": [],
   "source": [
    "print(doc.ents[0].label_)"
   ]
  },
  {
   "cell_type": "code",
   "execution_count": null,
   "metadata": {},
   "outputs": [],
   "source": [
    "# for ent in doc.ents:\n",
    "dict = {}\n",
    "\n",
    "# dict.update({doc.ents[0].label_ : doc.ents[0].text})"
   ]
  },
  {
   "cell_type": "code",
   "execution_count": null,
   "metadata": {},
   "outputs": [],
   "source": [
    "dict"
   ]
  },
  {
   "cell_type": "code",
   "execution_count": null,
   "metadata": {},
   "outputs": [],
   "source": [
    "dict = {}\n",
    "for ent in doc.ents:\n",
    "    dict.update({ent.label_: ent.text})\n",
    "\n",
    "print(dict['COR'], dict['MAJOR'])"
   ]
  },
  {
   "cell_type": "code",
   "execution_count": null,
   "metadata": {},
   "outputs": [],
   "source": [
    "dict"
   ]
  },
  {
   "cell_type": "code",
   "execution_count": null,
   "metadata": {},
   "outputs": [],
   "source": []
  },
  {
   "cell_type": "code",
   "execution_count": null,
   "metadata": {},
   "outputs": [],
   "source": [
    "from pathlib import Path\n",
    "import spacy\n",
    "\n",
    "output_dir=Path(\"NerModels\")\n",
    "\n",
    "# print(\"Loading from\", output_dir)\n",
    "nlp2 = spacy.load(output_dir)\n",
    "\n",
    "doc = nlp2(\"cosc 111  is computer science\")\n",
    "# print('Entities', [(ent.text, ent.label_) for ent in doc.ents])\n",
    "user = {}\n",
    "for ent in doc.ents:\n",
    "    user.update({ent.label_: ent.text})\n",
    "\n",
    "direct = {\"computer science\": [\"cosc 121\", \"math 100\", \"math 101\", \"cosc 211\", \"cosc 221\", \"cosc 222\", \"math 221\", \"stat 230\", \"cosc 320\", \"cosc 304\", \"cosc 310\" \"cosc 341\" \"cosc 499\", \"phil 331\"]}\n",
    "optional = {\"computer science\": [[\"cosc 111\", \"cosc 123\"], {\"engl 109\": [\"2\", \"engl 112\", \"engl 113\", \"engl 114\", \"engl 150\", \"engl 151\", \"engl 153\", \"engl 154\",\"engl 155\", \"engl 156\", \"engl 203\", \"corh 203\", \"corh 205\", \"apsc 176\", \"apsc 201\"]}, [\"phys 111\", \"phys 112\"]]}\n",
    "reply = \"\"\n",
    "\n",
    "if user['COR'] in direct[user['MAJOR']]:\n",
    "    reply = \"Yes \" + user['COR'] + \" is a requirement for \" + user['MAJOR'] + \".\" \n",
    "if user['COR'] in optional[user[\"MAJOR\"]]:\n",
    "    reply = \"Yes \" + user['COR']\n",
    "\n",
    "for type in optional[user['MAJOR']]:\n",
    "    if isinstance(type, dict):\n",
    "        l=[]\n",
    "        [l.extend([k,v]) for k,v in type.items()]\n",
    "        y = [l[0]]\n",
    "        [y.extend(l[1])]\n",
    "#         print(y)\n",
    "        if user['COR'] in y:\n",
    "            reply = \"Yes, take one of \"+ y[0] + \" or \" + y[1] + \" of \"  \n",
    "            del y[0]\n",
    "            del y[0]\n",
    "            for i in y:\n",
    "                reply += i + \", \"\n",
    "    else:\n",
    "        if user['COR'] in type:\n",
    "            reply = \"Yes, take one of \"+ type[0] + \" or \" + type[1]  \n",
    "    \n",
    "if reply == \"\":\n",
    "    reply = user['COR'] + \" is not a requirement for \" + user['MAJOR'] + \" but might be used as an elective, speak with an Academic & Career Advisor for more clarity.\"\n",
    "    \n",
    "print(reply)"
   ]
  },
  {
   "cell_type": "code",
   "execution_count": null,
   "metadata": {},
   "outputs": [],
   "source": [
    "optional = {\"computer science\": [[\"cosc 111\", \"cosc 123\"], {\"engl 109\": [\"2\", \"engl 112\", \"engl 113\", \"engl 114\", \"engl 150\", \"engl 151\", \"engl 153\", \"engl 154\",\"engl 155\", \"engl 156\", \"engl 203\", \"corh 203\", \"corh 205\", \"apsc 176\", \"apsc 201\"]}, [\"phys 111\", \"phys 112\"]]}"
   ]
  },
  {
   "cell_type": "code",
   "execution_count": null,
   "metadata": {},
   "outputs": [],
   "source": [
    "bar = {\"engl 109\": [\"2\", \"engl 112\", \"engl 113\", \"engl 114\", \"engl 150\", \"engl 151\", \"engl 153\", \"engl 154\",\"engl 155\", \"engl 156\", \"engl 203\", \"corh 203\", \"corh 205\", \"apsc 176\", \"apsc 201\"]}\n",
    "\n",
    "l=[]\n",
    "[l.extend x for x in bar.items()]\n",
    "print(l)"
   ]
  },
  {
   "cell_type": "code",
   "execution_count": null,
   "metadata": {},
   "outputs": [],
   "source": []
  },
  {
   "cell_type": "code",
   "execution_count": null,
   "metadata": {},
   "outputs": [],
   "source": []
  }
 ],
 "metadata": {
  "kernelspec": {
   "display_name": "Python 3 (ipykernel)",
   "language": "python",
   "name": "python3"
  },
  "language_info": {
   "codemirror_mode": {
    "name": "ipython",
    "version": 3
   },
   "file_extension": ".py",
   "mimetype": "text/x-python",
   "name": "python",
   "nbconvert_exporter": "python",
   "pygments_lexer": "ipython3",
   "version": "3.10.8"
  }
 },
 "nbformat": 4,
 "nbformat_minor": 4
}
