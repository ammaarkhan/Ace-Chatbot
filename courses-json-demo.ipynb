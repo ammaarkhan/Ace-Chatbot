{
 "cells": [
  {
   "cell_type": "code",
   "execution_count": 1,
   "id": "87876d8e",
   "metadata": {},
   "outputs": [],
   "source": [
    "import json"
   ]
  },
  {
   "cell_type": "code",
   "execution_count": 2,
   "id": "93696eb4",
   "metadata": {},
   "outputs": [],
   "source": [
    "courses = json.loads(open(\"courses.json\").read())"
   ]
  },
  {
   "cell_type": "code",
   "execution_count": 14,
   "id": "fe1e5388",
   "metadata": {},
   "outputs": [
    {
     "data": {
      "text/plain": [
       "{'computer science': ['cosc 121',\n",
       "  'math 100',\n",
       "  'math 101',\n",
       "  'cosc 211',\n",
       "  'cosc 221',\n",
       "  'cosc 222',\n",
       "  'math 221',\n",
       "  'stat 230',\n",
       "  'cosc 320',\n",
       "  'cosc 304',\n",
       "  'cosc 310',\n",
       "  'cosc 341',\n",
       "  'cosc 499',\n",
       "  'phil 331'],\n",
       " 'chemistry': ['math 100',\n",
       "  'chem 201',\n",
       "  'chem 220',\n",
       "  'chem 203',\n",
       "  'chem 203',\n",
       "  'chem 204',\n",
       "  'chem 211',\n",
       "  'math 200']}"
      ]
     },
     "execution_count": 14,
     "metadata": {},
     "output_type": "execute_result"
    }
   ],
   "source": [
    "cor = courses['mandatory']\n",
    "cor"
   ]
  },
  {
   "cell_type": "code",
   "execution_count": 12,
   "id": "51a867b8",
   "metadata": {},
   "outputs": [
    {
     "data": {
      "text/plain": [
       "{'computer science': [['cosc 111', 'cosc 123'],\n",
       "  {'engl 109': ['2',\n",
       "    'engl 112',\n",
       "    'engl 113',\n",
       "    'engl 114',\n",
       "    'engl 150',\n",
       "    'engl 151',\n",
       "    'engl 153',\n",
       "    'engl 154',\n",
       "    'engl 155',\n",
       "    'engl 156',\n",
       "    'engl 203',\n",
       "    'corh 203',\n",
       "    'corh 205',\n",
       "    'apsc 176',\n",
       "    'apsc 201']},\n",
       "  ['phys 111', 'phys 112']],\n",
       " 'chemistry': [['chem 111', 'chem 121'],\n",
       "  ['chem 113', 'chem 123'],\n",
       "  ['math 101', 'math 103'],\n",
       "  {'engl 109': ['2',\n",
       "    'engl 112',\n",
       "    'engl 113',\n",
       "    'engl 114',\n",
       "    'engl 150',\n",
       "    'engl 151',\n",
       "    'engl 153',\n",
       "    'engl 154',\n",
       "    'engl 155',\n",
       "    'engl 156',\n",
       "    'corh 203']},\n",
       "  ['phys 111', 'phys 112'],\n",
       "  ['phys 121', 'phys 122']]}"
      ]
     },
     "execution_count": 12,
     "metadata": {},
     "output_type": "execute_result"
    }
   ],
   "source": [
    "optional = courses['optional']\n",
    "optional"
   ]
  },
  {
   "cell_type": "code",
   "execution_count": 8,
   "id": "da923085",
   "metadata": {},
   "outputs": [
    {
     "data": {
      "text/plain": [
       "['cosc 121',\n",
       " 'math 100',\n",
       " 'math 101',\n",
       " 'cosc 211',\n",
       " 'cosc 221',\n",
       " 'cosc 222',\n",
       " 'math 221',\n",
       " 'stat 230',\n",
       " 'cosc 320',\n",
       " 'cosc 304',\n",
       " 'cosc 310',\n",
       " 'cosc 341',\n",
       " 'cosc 499',\n",
       " 'phil 331']"
      ]
     },
     "execution_count": 8,
     "metadata": {},
     "output_type": "execute_result"
    }
   ],
   "source": [
    "cor['computer science']"
   ]
  },
  {
   "cell_type": "code",
   "execution_count": 6,
   "id": "3b9190fb",
   "metadata": {},
   "outputs": [
    {
     "name": "stdout",
     "output_type": "stream",
     "text": [
      "hi\n"
     ]
    }
   ],
   "source": [
    "if 'computer science' in cor:\n",
    "    print(\"hi\")"
   ]
  },
  {
   "cell_type": "code",
   "execution_count": null,
   "id": "58666750",
   "metadata": {},
   "outputs": [],
   "source": [
    "if \"computer science\" in list(cor.keys()):\n",
    "        if \"cosc 121\" in direct[user['MAJOR']]:\n",
    "            reply = \"Yes \" + user['COR'].upper() + \" is a requirement for \" + user['MAJOR'].upper() + \".\" \n",
    "        else:\n",
    "            for type in optional[user['MAJOR']]:\n",
    "                if isinstance(type, dict):\n",
    "                    l=[]\n",
    "                    [l.extend([k,v]) for k,v in type.items()]\n",
    "                    y = [l[0]]\n",
    "                    [y.extend(l[1])]\n",
    "                    if user['COR'] in y:\n",
    "                        reply = \"Yes, take one of \"+ y[0].upper() + \" or \" + y[1] + \" of \"  \n",
    "                        del y[0]\n",
    "                        del y[0]\n",
    "                        for i in y:\n",
    "                            reply += i.upper() + \", \"\n",
    "                else:\n",
    "                    if user['COR'] in type:\n",
    "                        reply = \"Yes, take one of \"+ type[0].upper() \n",
    "                        del type[0]\n",
    "                        for i in type:\n",
    "                            reply += \" or \" + i.upper()\n",
    "    else:\n",
    "        reply = \"Major information not available.\""
   ]
  }
 ],
 "metadata": {
  "kernelspec": {
   "display_name": "Python 3 (ipykernel)",
   "language": "python",
   "name": "python3"
  },
  "language_info": {
   "codemirror_mode": {
    "name": "ipython",
    "version": 3
   },
   "file_extension": ".py",
   "mimetype": "text/x-python",
   "name": "python",
   "nbconvert_exporter": "python",
   "pygments_lexer": "ipython3",
   "version": "3.10.8"
  }
 },
 "nbformat": 4,
 "nbformat_minor": 5
}
