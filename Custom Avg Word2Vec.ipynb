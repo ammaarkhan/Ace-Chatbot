{
 "cells": [
  {
   "cell_type": "markdown",
   "id": "a889e980",
   "metadata": {},
   "source": [
    "# Avg Word2Vec"
   ]
  },
  {
   "cell_type": "code",
   "execution_count": null,
   "id": "868dada8",
   "metadata": {},
   "outputs": [],
   "source": [
    "from nltk.stem import WordNetLemmatizer\n",
    "lemmatizer=WordNetLemmatizer()"
   ]
  },
  {
   "cell_type": "code",
   "execution_count": null,
   "id": "c44e92ab",
   "metadata": {},
   "outputs": [],
   "source": [
    "import re\n",
    "import nltk\n",
    "nltk.download('stopwords')"
   ]
  },
  {
   "cell_type": "markdown",
   "id": "c9477c78",
   "metadata": {},
   "source": [
    "## Creating Data "
   ]
  },
  {
   "cell_type": "code",
   "execution_count": null,
   "id": "d1dea225",
   "metadata": {},
   "outputs": [],
   "source": [
    "import pandas as pd\n"
   ]
  },
  {
   "cell_type": "code",
   "execution_count": null,
   "id": "1b84958d",
   "metadata": {},
   "outputs": [],
   "source": [
    "sentences = ['my name is ammaar', ' ']"
   ]
  },
  {
   "cell_type": "code",
   "execution_count": null,
   "id": "138b5e9e",
   "metadata": {},
   "outputs": [],
   "source": []
  },
  {
   "cell_type": "code",
   "execution_count": null,
   "id": "c0f8ed9d",
   "metadata": {},
   "outputs": [],
   "source": []
  },
  {
   "cell_type": "code",
   "execution_count": null,
   "id": "cc11652c",
   "metadata": {},
   "outputs": [],
   "source": []
  },
  {
   "cell_type": "code",
   "execution_count": null,
   "id": "8f81539d",
   "metadata": {},
   "outputs": [],
   "source": []
  },
  {
   "cell_type": "code",
   "execution_count": null,
   "id": "69159414",
   "metadata": {},
   "outputs": [],
   "source": []
  },
  {
   "cell_type": "code",
   "execution_count": null,
   "id": "54b3fe38",
   "metadata": {},
   "outputs": [],
   "source": []
  },
  {
   "cell_type": "code",
   "execution_count": 1,
   "id": "c61f7633",
   "metadata": {},
   "outputs": [],
   "source": [
    "import json \n",
    "import numpy as np\n",
    "from nltk.stem import WordNetLemmatizer\n",
    "lemmatizer=WordNetLemmatizer()\n",
    "from nltk import sent_tokenize\n",
    "from gensim.utils import simple_preprocess"
   ]
  },
  {
   "cell_type": "code",
   "execution_count": 2,
   "id": "9dc751e4",
   "metadata": {},
   "outputs": [],
   "source": [
    "advising = json.loads(open(\"may30.train.scenario-1.json\").read())"
   ]
  },
  {
   "cell_type": "code",
   "execution_count": 4,
   "id": "c6c1d752",
   "metadata": {},
   "outputs": [
    {
     "name": "stderr",
     "output_type": "stream",
     "text": [
      "\n",
      "KeyboardInterrupt\n",
      "\n"
     ]
    }
   ],
   "source": [
    "corp = []\n",
    "\n",
    "x=0\n",
    "\n",
    "for i in range(5):\n",
    "    for part in advising:\n",
    "        if x == 0:\n",
    "            for i in part[\"messages-so-far\"]:\n",
    "                pattern = i[\"utterance\"]\n",
    "                pattern = pattern.split()\n",
    "                pattern = [lemmatizer.lemmatize(word) for word in pattern]\n",
    "                pattern = \" \".join(pattern)\n",
    "                corp.append(pattern)\n",
    "                x = x+1\n",
    "        for i in part[\"options-for-correct-answers\"]:\n",
    "            pattern = i[\"utterance\"]\n",
    "            pattern = pattern.split()\n",
    "            pattern = [lemmatizer.lemmatize(word) for word in pattern]\n",
    "            pattern = \" \".join(pattern)\n",
    "            corp.append(pattern)\n",
    "        for i in part[\"options-for-next\"]:\n",
    "            pattern = i[\"utterance\"]\n",
    "            pattern = pattern.split()\n",
    "            pattern = [lemmatizer.lemmatize(word) for word in pattern]\n",
    "            pattern = \" \".join(pattern)\n",
    "            corp.append(pattern)\n"
   ]
  },
  {
   "cell_type": "code",
   "execution_count": null,
   "id": "f4598fd4",
   "metadata": {},
   "outputs": [],
   "source": [
    "corp"
   ]
  },
  {
   "cell_type": "code",
   "execution_count": null,
   "id": "c002210b",
   "metadata": {},
   "outputs": [],
   "source": [
    "# final = []\n",
    "# for sent in corp:\n",
    "#     pattern = sent.lower()\n",
    "#     pattern = pattern.split()\n",
    "        \n",
    "#     pattern = [lemmatizer.lemmatize(word) for word in pattern]\n",
    "#     pattern = \" \".join(pattern)\n",
    "#     final.append(pattern)"
   ]
  },
  {
   "cell_type": "code",
   "execution_count": null,
   "id": "c87bd411",
   "metadata": {},
   "outputs": [],
   "source": [
    "# final"
   ]
  },
  {
   "cell_type": "code",
   "execution_count": null,
   "id": "175778f2",
   "metadata": {},
   "outputs": [],
   "source": []
  },
  {
   "cell_type": "code",
   "execution_count": null,
   "id": "86dc267b",
   "metadata": {},
   "outputs": [],
   "source": [
    "corpus = []\n",
    "\n",
    "intents = json.loads(open(\"intents.json\").read())\n",
    "for intent in intents['intents']:\n",
    "    for pattern in intent['patterns']:\n",
    "        pattern = pattern.lower()\n",
    "        pattern = pattern.split()\n",
    "        \n",
    "        pattern = [lemmatizer.lemmatize(word) for word in pattern]\n",
    "        pattern = \" \".join(pattern)\n",
    "        corpus.append(pattern)\n",
    "\n",
    "print(intents)"
   ]
  },
  {
   "cell_type": "code",
   "execution_count": null,
   "id": "9c01bf07",
   "metadata": {},
   "outputs": [],
   "source": []
  },
  {
   "cell_type": "code",
   "execution_count": null,
   "id": "f10587f8",
   "metadata": {},
   "outputs": [],
   "source": [
    "corpus"
   ]
  },
  {
   "cell_type": "code",
   "execution_count": null,
   "id": "cba70922",
   "metadata": {},
   "outputs": [],
   "source": [
    "corpus = corpus[10:30]"
   ]
  },
  {
   "cell_type": "code",
   "execution_count": null,
   "id": "abc1e6a2",
   "metadata": {},
   "outputs": [],
   "source": [
    "corpus"
   ]
  },
  {
   "cell_type": "code",
   "execution_count": null,
   "id": "e9eec6e6",
   "metadata": {},
   "outputs": [],
   "source": [
    "words =[]\n",
    "for sent in corpus:\n",
    "    sent_token = sent_tokenize(sent)\n",
    "    for sent in sent_token:\n",
    "        words.append(simple_preprocess(sent))"
   ]
  },
  {
   "cell_type": "code",
   "execution_count": null,
   "id": "3384df09",
   "metadata": {},
   "outputs": [],
   "source": [
    "words"
   ]
  },
  {
   "cell_type": "code",
   "execution_count": null,
   "id": "e9f99e7a",
   "metadata": {},
   "outputs": [],
   "source": [
    "import gensim"
   ]
  },
  {
   "cell_type": "code",
   "execution_count": null,
   "id": "81008d6a",
   "metadata": {},
   "outputs": [],
   "source": [
    "model = gensim.models.Word2Vec(words)"
   ]
  },
  {
   "cell_type": "code",
   "execution_count": null,
   "id": "66b6066d",
   "metadata": {},
   "outputs": [],
   "source": [
    "model.wv.index_to_key"
   ]
  },
  {
   "cell_type": "code",
   "execution_count": null,
   "id": "09cd13b7",
   "metadata": {},
   "outputs": [],
   "source": [
    "model.corpus_count"
   ]
  },
  {
   "cell_type": "code",
   "execution_count": null,
   "id": "48d5d102",
   "metadata": {},
   "outputs": [],
   "source": [
    "model"
   ]
  },
  {
   "cell_type": "code",
   "execution_count": null,
   "id": "37ffd8dc",
   "metadata": {},
   "outputs": [],
   "source": [
    "def avg_word2vec(doc):\n",
    "    return np.mean([model.wv[word] for word in doc if word in model.wv.index_to_key],axis=0)"
   ]
  },
  {
   "cell_type": "code",
   "execution_count": null,
   "id": "018c72f6",
   "metadata": {},
   "outputs": [],
   "source": [
    "from tqdm import tqdm"
   ]
  },
  {
   "cell_type": "code",
   "execution_count": null,
   "id": "200dcbfe",
   "metadata": {},
   "outputs": [],
   "source": [
    "x=[]\n",
    "for i in tqdm(range(len(words))):\n",
    "    print(\"hello\", i)\n",
    "    x.append(avg_word2vec(words[i]))"
   ]
  },
  {
   "cell_type": "code",
   "execution_count": null,
   "id": "14c4d39b",
   "metadata": {},
   "outputs": [],
   "source": [
    "x"
   ]
  },
  {
   "cell_type": "code",
   "execution_count": null,
   "id": "4799ef26",
   "metadata": {},
   "outputs": [],
   "source": [
    "len(x)"
   ]
  },
  {
   "cell_type": "code",
   "execution_count": null,
   "id": "522595c0",
   "metadata": {},
   "outputs": [],
   "source": []
  },
  {
   "cell_type": "code",
   "execution_count": null,
   "id": "c7cf35cb",
   "metadata": {},
   "outputs": [],
   "source": []
  },
  {
   "cell_type": "code",
   "execution_count": null,
   "id": "b2432995",
   "metadata": {},
   "outputs": [],
   "source": []
  },
  {
   "cell_type": "code",
   "execution_count": 5,
   "id": "00825088",
   "metadata": {},
   "outputs": [
    {
     "name": "stdout",
     "output_type": "stream",
     "text": [
      "Requirement already satisfied: gensim in /Users/ammaarkhan/opt/anaconda3/envs/ml/lib/python3.10/site-packages (4.3.1)\r\n",
      "Requirement already satisfied: numpy>=1.18.5 in /Users/ammaarkhan/opt/anaconda3/envs/ml/lib/python3.10/site-packages (from gensim) (1.23.2)\r\n",
      "Requirement already satisfied: smart-open>=1.8.1 in /Users/ammaarkhan/opt/anaconda3/envs/ml/lib/python3.10/site-packages (from gensim) (6.3.0)\r\n",
      "Requirement already satisfied: scipy>=1.7.0 in /Users/ammaarkhan/opt/anaconda3/envs/ml/lib/python3.10/site-packages (from gensim) (1.10.0)\r\n"
     ]
    }
   ],
   "source": [
    "!pip install gensim"
   ]
  },
  {
   "cell_type": "code",
   "execution_count": 6,
   "id": "7be249bb",
   "metadata": {},
   "outputs": [],
   "source": [
    "import gensim\n",
    "from gensim.models import Word2Vec, KeyedVectors"
   ]
  },
  {
   "cell_type": "code",
   "execution_count": 7,
   "id": "98c56d7a",
   "metadata": {},
   "outputs": [],
   "source": [
    "import gensim.downloader as api"
   ]
  },
  {
   "cell_type": "code",
   "execution_count": 11,
   "id": "f4a82dc7",
   "metadata": {},
   "outputs": [],
   "source": [
    "wv = api.load('word2vec-google-news-300')"
   ]
  },
  {
   "cell_type": "code",
   "execution_count": 13,
   "id": "cd3a9b7e",
   "metadata": {},
   "outputs": [],
   "source": [
    "vec = wv['eat'] "
   ]
  },
  {
   "cell_type": "code",
   "execution_count": 16,
   "id": "29fca8b5",
   "metadata": {},
   "outputs": [
    {
     "data": {
      "text/plain": [
       "[('kings', 0.7138046622276306),\n",
       " ('queen', 0.6510956287384033),\n",
       " ('monarch', 0.6413194537162781),\n",
       " ('crown_prince', 0.6204219460487366),\n",
       " ('prince', 0.6159993410110474),\n",
       " ('sultan', 0.5864824056625366),\n",
       " ('ruler', 0.5797566771507263),\n",
       " ('princes', 0.5646552443504333),\n",
       " ('Prince_Paras', 0.5432944297790527),\n",
       " ('throne', 0.5422105193138123)]"
      ]
     },
     "execution_count": 16,
     "metadata": {},
     "output_type": "execute_result"
    }
   ],
   "source": [
    "wv.most_similar(positive=['king'])"
   ]
  },
  {
   "cell_type": "code",
   "execution_count": null,
   "id": "55ef7fa6",
   "metadata": {},
   "outputs": [],
   "source": []
  }
 ],
 "metadata": {
  "kernelspec": {
   "display_name": "Python 3 (ipykernel)",
   "language": "python",
   "name": "python3"
  },
  "language_info": {
   "codemirror_mode": {
    "name": "ipython",
    "version": 3
   },
   "file_extension": ".py",
   "mimetype": "text/x-python",
   "name": "python",
   "nbconvert_exporter": "python",
   "pygments_lexer": "ipython3",
   "version": "3.10.8"
  }
 },
 "nbformat": 4,
 "nbformat_minor": 5
}
